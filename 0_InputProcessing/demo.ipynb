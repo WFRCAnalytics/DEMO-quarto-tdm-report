{
 "cells": [
  {
   "attachments": {},
   "cell_type": "markdown",
   "metadata": {},
   "source": [
    "# Demographic Summary"
   ]
  },
  {
   "cell_type": "code",
   "execution_count": 373,
   "metadata": {},
   "outputs": [],
   "source": [
    "#| echo: false\n",
    "import sys\n",
    "import pandas as pd\n",
    "sys.path.append('..')\n",
    "import globalpaths\n",
    "import plotly.express as px\n",
    "import plotly.io as pio\n",
    "pio.renderers.default = 'iframe_connected'"
   ]
  },
  {
   "cell_type": "code",
   "execution_count": 374,
   "metadata": {},
   "outputs": [],
   "source": [
    "#| echo: false\n",
    "control_se = globalpaths.df_ControlTotal_SE_AllCounties\n",
    "model_se = globalpaths.df_se_file"
   ]
  },
  {
   "cell_type": "code",
   "execution_count": 375,
   "metadata": {},
   "outputs": [],
   "source": [
    "#| echo: false\n",
    "year = int(globalpaths.DemographicYear)\n",
    "control_cos = ['Box Elder', 'Weber - WFRC', 'Davis', 'Salt Lake', 'Utah']\n",
    "control_cols = ['CO_NAME','YEAR', 'HH','HH_Pop','HH_Size','Job_HH','RETL','FOOD','MANU','WSLE','OFFI','GVED','HLTH','OTHR','AGRI','MING','CONS','HBJ']\n",
    "model_cos = ['BOX ELDER', 'WEBER', 'DAVIS', 'SALT LAKE', 'UTAH']\n",
    "model_cols = ['CO_NAME', 'TOTHH','HHPOP', 'ALLEMP', 'RETL','FOOD','MANU','WSLE','OFFI','GVED','HLTH','OTHR','AGRI','MING','CONS','HBJ', 'ENROL_ELEM', 'ENROL_MIDL','ENROL_HIGH']"
   ]
  },
  {
   "cell_type": "code",
   "execution_count": 376,
   "metadata": {},
   "outputs": [],
   "source": [
    "#| echo: false\n",
    "control_filtered = control_se.loc[(control_se['YEAR'] == year) & (control_se['CO_NAME'].isin(control_cos)), control_cols]\n",
    "control_filtered = control_filtered.rename(columns={'HH':'TOTHH', 'HH_Pop':'HHPOP'}).drop(columns={'YEAR'})\n",
    "condition = control_filtered['CO_NAME'].isin(control_cos)\n",
    "control_filtered.loc[condition, 'CO_NAME'] = pd.Series(['BOX ELDER', 'DAVIS', 'SALT LAKE', 'UTAH', 'WEBER'], index = control_filtered[condition].index)\n",
    "control_filtered['ALLEMP'] = control_filtered.iloc[:, control_filtered.columns.get_loc('RETL'): control_filtered.columns.get_loc('HBJ') + 1].sum(axis=1)\n",
    "control_filtered['Type'] = 'ControlTotal'"
   ]
  },
  {
   "cell_type": "code",
   "execution_count": 377,
   "metadata": {},
   "outputs": [],
   "source": [
    "#| echo: false\n",
    "model_filtered = model_se.loc[model_se['CO_NAME'].isin(model_cos), model_cols]\n",
    "model_filtered = model_filtered.groupby('CO_NAME').sum().reset_index()\n",
    "model_filtered['HH_Size'] = model_filtered['HHPOP'] / model_filtered['TOTHH']\n",
    "model_filtered['Job_HH'] = model_filtered['ALLEMP'] / model_filtered['TOTHH']\n",
    "model_filtered['Type'] = 'Model'"
   ]
  },
  {
   "cell_type": "code",
   "execution_count": 378,
   "metadata": {},
   "outputs": [],
   "source": [
    "#| echo: false\n",
    "control_model = pd.concat([control_filtered, model_filtered], axis=0)"
   ]
  },
  {
   "cell_type": "code",
   "execution_count": 379,
   "metadata": {},
   "outputs": [],
   "source": [
    "#| echo: false\n",
    "control_model_pivot = control_model_long.pivot_table(index=['CO_NAME', 'Variable'], columns='Type', values='Value').reset_index()\n",
    "control_model_pivot.columns.name = None\n",
    "control_model_pivot['Diff'] = control_model_pivot['Model'] - control_model_pivot['ControlTotal']\n",
    "control_model_pivot['%Diff'] = (control_model_pivot['Model'] - control_model_pivot['ControlTotal']) / control_model_pivot['ControlTotal'] * 100"
   ]
  },
  {
   "cell_type": "code",
   "execution_count": 380,
   "metadata": {},
   "outputs": [],
   "source": [
    "#| echo: false\n",
    "var_order = ['TOTHH','HHPOP', 'HH_Size','ALLEMP', 'RETL','FOOD','MANU','WSLE','OFFI','GVED','HLTH','OTHR','AGRI','MING','CONS','HBJ', 'Job_HH','ENROL_ELEM', 'ENROL_MIDL','ENROL_HIGH']"
   ]
  },
  {
   "cell_type": "code",
   "execution_count": 381,
   "metadata": {},
   "outputs": [],
   "source": [
    "#| echo: false\n",
    "def get_co_demo(co_name, pivot, variable_order):\n",
    "    demo = pivot[pivot['CO_NAME'] == co_name]\n",
    "    demo['Variable'] = pd.Categorical(demo['Variable'], categories=variable_order, ordered=True)\n",
    "    demo = demo.sort_values(by='Variable')\n",
    "    demo = demo.reset_index(drop=True).drop(columns='CO_NAME')\n",
    "    demo['ControlTotal'] = demo['ControlTotal'].astype(float)\n",
    "    demo['Diff'] = demo['Diff'].astype(float)\n",
    "    demo['%Diff'] = demo['%Diff'].astype(float)\n",
    "    demo = demo.round(0)\n",
    "    return demo"
   ]
  },
  {
   "cell_type": "code",
   "execution_count": 382,
   "metadata": {},
   "outputs": [],
   "source": [
    "def plot_job_sectors(co_name, long):\n",
    "    sectors = ['RETL','FOOD','MANU','WSLE','OFFI','GVED','HLTH','OTHR','AGRI','MING','CONS','HBJ']\n",
    "    bar_sectors = long.loc[long['CO_NAME'] == co_name]\n",
    "    bar_sectors = bar_sectors.loc[bar_sectors['Variable'].isin(sectors)]\n",
    "\n",
    "    df = px.data.tips()\n",
    "    fig = px.histogram(bar_sectors, x=\"Variable\", y=\"Value\", text_auto='.2s',\n",
    "                 color='Type', barmode='group',\n",
    "                 height=400)\n",
    "    fig.update_layout(\n",
    "        xaxis_title=\"Job Type\",\n",
    "        yaxis_title=\"Number of Jobs\",\n",
    "        legend_title=\"Data Type\"\n",
    "    )\n",
    "    #fig.update_xaxes(tickangle=90)\n",
    "    fig.show()"
   ]
  },
  {
   "attachments": {},
   "cell_type": "markdown",
   "metadata": {},
   "source": [
    "## Box Elder"
   ]
  },
  {
   "attachments": {},
   "cell_type": "markdown",
   "metadata": {},
   "source": [
    "```{=html}\n",
    "<details>\n",
    "<summary>Expand Table</summary>\n",
    "```"
   ]
  },
  {
   "cell_type": "code",
   "execution_count": 383,
   "metadata": {},
   "outputs": [
    {
     "name": "stderr",
     "output_type": "stream",
     "text": [
      "C:\\Users\\cday\\AppData\\Local\\Temp\\ipykernel_21028\\2056949888.py:4: SettingWithCopyWarning:\n",
      "\n",
      "\n",
      "A value is trying to be set on a copy of a slice from a DataFrame.\n",
      "Try using .loc[row_indexer,col_indexer] = value instead\n",
      "\n",
      "See the caveats in the documentation: https://pandas.pydata.org/pandas-docs/stable/user_guide/indexing.html#returning-a-view-versus-a-copy\n",
      "\n"
     ]
    },
    {
     "data": {
      "text/markdown": [
       "| Variable   |   ControlTotal |   Model |   Diff |   %Diff |\n",
       "|:-----------|---------------:|--------:|-------:|--------:|\n",
       "| TOTHH      |          18369 |   10130 |  -8238 |     -45 |\n",
       "| HHPOP      |          56542 |   30296 | -26246 |     -46 |\n",
       "| HH_Size    |              3 |       3 |     -0 |      -3 |\n",
       "| ALLEMP     |          30480 |   16973 | -13507 |     -44 |\n",
       "| RETL       |           2756 |    1754 |  -1002 |     -36 |\n",
       "| FOOD       |           1663 |    1111 |   -552 |     -33 |\n",
       "| MANU       |           6460 |    2522 |  -3938 |     -61 |\n",
       "| WSLE       |           2724 |     715 |  -2009 |     -74 |\n",
       "| OFFI       |            993 |     712 |   -280 |     -28 |\n",
       "| GVED       |           3399 |    2312 |  -1087 |     -32 |\n",
       "| HLTH       |           2022 |    1434 |   -588 |     -29 |\n",
       "| OTHR       |           5655 |    4234 |  -1420 |     -25 |\n",
       "| AGRI       |           1539 |     390 |  -1149 |     -75 |\n",
       "| MING       |             67 |      17 |    -50 |     -75 |\n",
       "| CONS       |           2261 |    1254 |  -1007 |     -45 |\n",
       "| HBJ        |            941 |     518 |   -423 |     -45 |\n",
       "| Job_HH     |              2 |       2 |      0 |       1 |\n",
       "| ENROL_ELEM |            nan |    2703 |    nan |     nan |\n",
       "| ENROL_MIDL |            nan |    1093 |    nan |     nan |\n",
       "| ENROL_HIGH |            nan |    1661 |    nan |     nan |"
      ],
      "text/plain": [
       "<IPython.core.display.Markdown object>"
      ]
     },
     "metadata": {},
     "output_type": "display_data"
    }
   ],
   "source": [
    "#| echo: False\n",
    "#| warning: False\n",
    "box_elder_demo = get_co_demo('BOX ELDER', control_model_pivot, var_order)\n",
    "markdown_df = box_elder_demo.to_markdown(index=False)\n",
    "display(Markdown(markdown_df))"
   ]
  },
  {
   "attachments": {},
   "cell_type": "markdown",
   "metadata": {},
   "source": [
    "```{=html}\n",
    "</details>\n",
    "```"
   ]
  },
  {
   "cell_type": "code",
   "execution_count": 384,
   "metadata": {},
   "outputs": [
    {
     "data": {
      "text/html": [
       "<iframe\n",
       "    scrolling=\"no\"\n",
       "    width=\"100%\"\n",
       "    height=\"420\"\n",
       "    src=\"iframe_figures/figure_384.html\"\n",
       "    frameborder=\"0\"\n",
       "    allowfullscreen\n",
       "></iframe>\n"
      ]
     },
     "metadata": {},
     "output_type": "display_data"
    }
   ],
   "source": [
    "#| echo: False\n",
    "#| label: fig-be-sector\n",
    "#| fig-cap: \"Box Elder Control Total vs. Modeled Number of Jobs by Job Type\"\n",
    "plot_job_sectors('BOX ELDER', control_model_long)"
   ]
  },
  {
   "attachments": {},
   "cell_type": "markdown",
   "metadata": {},
   "source": [
    "## Weber"
   ]
  },
  {
   "attachments": {},
   "cell_type": "markdown",
   "metadata": {},
   "source": [
    "```{=html}\n",
    "<details>\n",
    "<summary>Expand Table</summary>\n",
    "```"
   ]
  },
  {
   "cell_type": "code",
   "execution_count": 385,
   "metadata": {},
   "outputs": [
    {
     "name": "stderr",
     "output_type": "stream",
     "text": [
      "C:\\Users\\cday\\AppData\\Local\\Temp\\ipykernel_21028\\2056949888.py:4: SettingWithCopyWarning:\n",
      "\n",
      "\n",
      "A value is trying to be set on a copy of a slice from a DataFrame.\n",
      "Try using .loc[row_indexer,col_indexer] = value instead\n",
      "\n",
      "See the caveats in the documentation: https://pandas.pydata.org/pandas-docs/stable/user_guide/indexing.html#returning-a-view-versus-a-copy\n",
      "\n"
     ]
    },
    {
     "data": {
      "text/markdown": [
       "| Variable   |   ControlTotal |   Model |   Diff |   %Diff |\n",
       "|:-----------|---------------:|--------:|-------:|--------:|\n",
       "| TOTHH      |          86141 |   86141 |      0 |       0 |\n",
       "| HHPOP      |         249841 |  249842 |      1 |       0 |\n",
       "| HH_Size    |              3 |       3 |      0 |       0 |\n",
       "| ALLEMP     |         142482 |  142482 |      0 |       0 |\n",
       "| RETL       |          15279 |   15279 |      0 |       0 |\n",
       "| FOOD       |           8250 |    8250 |      0 |       0 |\n",
       "| MANU       |          15224 |   15224 |      0 |       0 |\n",
       "| WSLE       |           8189 |    8189 |      0 |       0 |\n",
       "| OFFI       |           9083 |    9083 |      0 |       0 |\n",
       "| GVED       |          23865 |   23865 |      0 |       0 |\n",
       "| HLTH       |          14497 |   14497 |      0 |       0 |\n",
       "| OTHR       |          34562 |   34562 |      0 |       0 |\n",
       "| AGRI       |           1482 |    1481 |     -1 |      -0 |\n",
       "| MING       |            143 |     143 |      0 |       0 |\n",
       "| CONS       |           8672 |    8672 |      0 |       0 |\n",
       "| HBJ        |           3236 |    3233 |     -3 |      -0 |\n",
       "| Job_HH     |              2 |       2 |      0 |       0 |\n",
       "| ENROL_ELEM |            nan |   26958 |    nan |     nan |\n",
       "| ENROL_MIDL |            nan |   11524 |    nan |     nan |\n",
       "| ENROL_HIGH |            nan |   11230 |    nan |     nan |"
      ],
      "text/plain": [
       "<IPython.core.display.Markdown object>"
      ]
     },
     "metadata": {},
     "output_type": "display_data"
    }
   ],
   "source": [
    "#| warning: false\n",
    "#| echo: false\n",
    "weber_demo = get_co_demo('WEBER', control_model_pivot, var_order)\n",
    "markdown_df = weber_demo.to_markdown(index=False)\n",
    "display(Markdown(markdown_df))"
   ]
  },
  {
   "attachments": {},
   "cell_type": "markdown",
   "metadata": {},
   "source": [
    "```{=html}\n",
    "</details>\n",
    "```"
   ]
  },
  {
   "cell_type": "code",
   "execution_count": 386,
   "metadata": {},
   "outputs": [
    {
     "data": {
      "text/html": [
       "<iframe\n",
       "    scrolling=\"no\"\n",
       "    width=\"100%\"\n",
       "    height=\"420\"\n",
       "    src=\"iframe_figures/figure_386.html\"\n",
       "    frameborder=\"0\"\n",
       "    allowfullscreen\n",
       "></iframe>\n"
      ]
     },
     "metadata": {},
     "output_type": "display_data"
    }
   ],
   "source": [
    "#| echo: False\n",
    "#| label: fig-we-sector\n",
    "#| fig-cap: \"Weber Control Total vs. Modeled Number of Jobs by Job Type\"\n",
    "plot_job_sectors('WEBER', control_model_long)"
   ]
  },
  {
   "attachments": {},
   "cell_type": "markdown",
   "metadata": {},
   "source": [
    "## Davis"
   ]
  },
  {
   "attachments": {},
   "cell_type": "markdown",
   "metadata": {},
   "source": [
    "```{=html}\n",
    "<details>\n",
    "<summary>Expand Table</summary>\n",
    "```"
   ]
  },
  {
   "cell_type": "code",
   "execution_count": 387,
   "metadata": {},
   "outputs": [
    {
     "name": "stderr",
     "output_type": "stream",
     "text": [
      "C:\\Users\\cday\\AppData\\Local\\Temp\\ipykernel_21028\\2056949888.py:4: SettingWithCopyWarning:\n",
      "\n",
      "\n",
      "A value is trying to be set on a copy of a slice from a DataFrame.\n",
      "Try using .loc[row_indexer,col_indexer] = value instead\n",
      "\n",
      "See the caveats in the documentation: https://pandas.pydata.org/pandas-docs/stable/user_guide/indexing.html#returning-a-view-versus-a-copy\n",
      "\n"
     ]
    },
    {
     "data": {
      "text/markdown": [
       "| Variable   |   ControlTotal |   Model |   Diff |   %Diff |\n",
       "|:-----------|---------------:|--------:|-------:|--------:|\n",
       "| TOTHH      |         110496 |  110496 |     -0 |      -0 |\n",
       "| HHPOP      |         356443 |  356442 |     -0 |      -0 |\n",
       "| HH_Size    |              3 |       3 |     -0 |      -0 |\n",
       "| ALLEMP     |         197873 |  197853 |    -20 |      -0 |\n",
       "| RETL       |          20064 |   20064 |      0 |       0 |\n",
       "| FOOD       |          10863 |   10863 |      0 |       0 |\n",
       "| MANU       |          14769 |   14769 |      0 |       0 |\n",
       "| WSLE       |          10730 |   10730 |      0 |       0 |\n",
       "| OFFI       |          18991 |   18991 |      0 |       0 |\n",
       "| GVED       |          40714 |   40719 |      5 |       0 |\n",
       "| HLTH       |          15859 |   15859 |      0 |       0 |\n",
       "| OTHR       |          46724 |   46724 |      0 |       0 |\n",
       "| AGRI       |            957 |     956 |     -1 |      -0 |\n",
       "| MING       |            150 |     150 |      0 |       0 |\n",
       "| CONS       |          13618 |   13618 |     -0 |      -0 |\n",
       "| HBJ        |           4434 |    4431 |     -3 |      -0 |\n",
       "| Job_HH     |              2 |       2 |      0 |       0 |\n",
       "| ENROL_ELEM |            nan |   41660 |    nan |     nan |\n",
       "| ENROL_MIDL |            nan |   18712 |    nan |     nan |\n",
       "| ENROL_HIGH |            nan |   17226 |    nan |     nan |"
      ],
      "text/plain": [
       "<IPython.core.display.Markdown object>"
      ]
     },
     "metadata": {},
     "output_type": "display_data"
    }
   ],
   "source": [
    "#| warning: false\n",
    "#| echo: false\n",
    "dave_demo = get_co_demo('DAVIS', control_model_pivot, var_order)\n",
    "markdown_df = dave_demo.to_markdown(index=False)\n",
    "display(Markdown(markdown_df))"
   ]
  },
  {
   "attachments": {},
   "cell_type": "markdown",
   "metadata": {},
   "source": [
    "```{=html}\n",
    "</details>\n",
    "```"
   ]
  },
  {
   "cell_type": "code",
   "execution_count": 388,
   "metadata": {},
   "outputs": [
    {
     "data": {
      "text/html": [
       "<iframe\n",
       "    scrolling=\"no\"\n",
       "    width=\"100%\"\n",
       "    height=\"420\"\n",
       "    src=\"iframe_figures/figure_388.html\"\n",
       "    frameborder=\"0\"\n",
       "    allowfullscreen\n",
       "></iframe>\n"
      ]
     },
     "metadata": {},
     "output_type": "display_data"
    }
   ],
   "source": [
    "#| echo: False\n",
    "#| label: fig-da-sector\n",
    "#| fig-cap: \"Davis Control Total vs. Modeled Number of Jobs by Job Type\"\n",
    "plot_job_sectors('DAVIS', control_model_long)"
   ]
  },
  {
   "attachments": {},
   "cell_type": "markdown",
   "metadata": {},
   "source": [
    "## Salt Lake"
   ]
  },
  {
   "attachments": {},
   "cell_type": "markdown",
   "metadata": {},
   "source": [
    "```{=html}\n",
    "<details>\n",
    "<summary>Expand Table</summary>\n",
    "```"
   ]
  },
  {
   "cell_type": "code",
   "execution_count": 389,
   "metadata": {},
   "outputs": [
    {
     "name": "stderr",
     "output_type": "stream",
     "text": [
      "C:\\Users\\cday\\AppData\\Local\\Temp\\ipykernel_21028\\2056949888.py:4: SettingWithCopyWarning:\n",
      "\n",
      "\n",
      "A value is trying to be set on a copy of a slice from a DataFrame.\n",
      "Try using .loc[row_indexer,col_indexer] = value instead\n",
      "\n",
      "See the caveats in the documentation: https://pandas.pydata.org/pandas-docs/stable/user_guide/indexing.html#returning-a-view-versus-a-copy\n",
      "\n"
     ]
    },
    {
     "data": {
      "text/markdown": [
       "| Variable   |     ControlTotal |            Model |   Diff |   %Diff |\n",
       "|:-----------|-----------------:|-----------------:|-------:|--------:|\n",
       "| TOTHH      | 399636           | 399634           |     -2 |      -0 |\n",
       "| HHPOP      |      1.15899e+06 |      1.15898e+06 |     -8 |      -0 |\n",
       "| HH_Size    |      3           |      3           |      0 |       0 |\n",
       "| ALLEMP     | 950865           | 949309           |  -1556 |      -0 |\n",
       "| RETL       |  85849           |  85852           |      3 |       0 |\n",
       "| FOOD       |  56206           |  56208           |      2 |       0 |\n",
       "| MANU       |  59851           |  59852           |      1 |       0 |\n",
       "| WSLE       |  84870           |  84870           |      0 |       0 |\n",
       "| OFFI       | 118808           | 118810           |      2 |       0 |\n",
       "| GVED       | 140842           | 140844           |      2 |       0 |\n",
       "| HLTH       |  73790           |  73791           |      1 |       0 |\n",
       "| OTHR       | 248020           | 248021           |      1 |       0 |\n",
       "| AGRI       |   1211           |   1209           |     -2 |      -0 |\n",
       "| MING       |   3526           |   3526           |     -0 |      -0 |\n",
       "| CONS       |  52061           |  52058           |     -3 |      -0 |\n",
       "| HBJ        |  25831           |  25823           |     -8 |      -0 |\n",
       "| Job_HH     |      2           |      2           |     -0 |      -0 |\n",
       "| ENROL_ELEM |    nan           | 106386           |    nan |     nan |\n",
       "| ENROL_MIDL |    nan           |  44618           |    nan |     nan |\n",
       "| ENROL_HIGH |    nan           |  55514           |    nan |     nan |"
      ],
      "text/plain": [
       "<IPython.core.display.Markdown object>"
      ]
     },
     "metadata": {},
     "output_type": "display_data"
    }
   ],
   "source": [
    "#| warning: false\n",
    "#| echo: false\n",
    "sl_demo = get_co_demo('SALT LAKE', control_model_pivot, var_order)\n",
    "markdown_df = sl_demo.to_markdown(index=False)\n",
    "display(Markdown(markdown_df))"
   ]
  },
  {
   "attachments": {},
   "cell_type": "markdown",
   "metadata": {},
   "source": [
    "```{=html}\n",
    "</details>\n",
    "```"
   ]
  },
  {
   "cell_type": "code",
   "execution_count": 390,
   "metadata": {},
   "outputs": [
    {
     "data": {
      "text/html": [
       "<iframe\n",
       "    scrolling=\"no\"\n",
       "    width=\"100%\"\n",
       "    height=\"420\"\n",
       "    src=\"iframe_figures/figure_390.html\"\n",
       "    frameborder=\"0\"\n",
       "    allowfullscreen\n",
       "></iframe>\n"
      ]
     },
     "metadata": {},
     "output_type": "display_data"
    }
   ],
   "source": [
    "#| echo: False\n",
    "#| label: fig-sl-sector\n",
    "#| fig-cap: \"Salt Lake Control Total vs. Modeled Number of Jobs by Job Type\"\n",
    "plot_job_sectors('SALT LAKE', control_model_long)"
   ]
  },
  {
   "attachments": {},
   "cell_type": "markdown",
   "metadata": {},
   "source": [
    "## Utah"
   ]
  },
  {
   "attachments": {},
   "cell_type": "markdown",
   "metadata": {},
   "source": [
    "```{=html}\n",
    "<details>\n",
    "<summary>Expand Table</summary>\n",
    "```"
   ]
  },
  {
   "cell_type": "code",
   "execution_count": 391,
   "metadata": {},
   "outputs": [
    {
     "name": "stderr",
     "output_type": "stream",
     "text": [
      "C:\\Users\\cday\\AppData\\Local\\Temp\\ipykernel_21028\\2056949888.py:4: SettingWithCopyWarning:\n",
      "\n",
      "\n",
      "A value is trying to be set on a copy of a slice from a DataFrame.\n",
      "Try using .loc[row_indexer,col_indexer] = value instead\n",
      "\n",
      "See the caveats in the documentation: https://pandas.pydata.org/pandas-docs/stable/user_guide/indexing.html#returning-a-view-versus-a-copy\n",
      "\n"
     ]
    },
    {
     "data": {
      "text/markdown": [
       "| Variable   |   ControlTotal |   Model |   Diff |   %Diff |\n",
       "|:-----------|---------------:|--------:|-------:|--------:|\n",
       "| TOTHH      |         178928 |  178923 |     -5 |      -0 |\n",
       "| HHPOP      |         628931 |  628926 |     -5 |      -0 |\n",
       "| HH_Size    |              4 |       4 |      0 |       0 |\n",
       "| ALLEMP     |         377067 |  376875 |   -192 |      -0 |\n",
       "| RETL       |          43048 |   42976 |    -72 |      -0 |\n",
       "| FOOD       |          20840 |   20837 |     -3 |      -0 |\n",
       "| MANU       |          21610 |   21610 |      0 |       0 |\n",
       "| WSLE       |          15416 |   15352 |    -64 |      -0 |\n",
       "| OFFI       |          54354 |   54355 |      1 |       0 |\n",
       "| GVED       |          58393 |   58387 |     -6 |      -0 |\n",
       "| HLTH       |          32868 |   32868 |      0 |       0 |\n",
       "| OTHR       |          85420 |   85402 |    -18 |      -0 |\n",
       "| AGRI       |           3462 |    3440 |    -22 |      -1 |\n",
       "| MING       |            667 |     667 |      0 |       0 |\n",
       "| CONS       |          30203 |   30206 |      3 |       0 |\n",
       "| HBJ        |          10786 |   10778 |     -8 |      -0 |\n",
       "| Job_HH     |              2 |       2 |     -0 |      -0 |\n",
       "| ENROL_ELEM |            nan |   79682 |    nan |     nan |\n",
       "| ENROL_MIDL |            nan |   32449 |    nan |     nan |\n",
       "| ENROL_HIGH |            nan |   34727 |    nan |     nan |"
      ],
      "text/plain": [
       "<IPython.core.display.Markdown object>"
      ]
     },
     "metadata": {},
     "output_type": "display_data"
    }
   ],
   "source": [
    "#| warning: false\n",
    "#| echo: false\n",
    "utah_demo = get_co_demo('UTAH', control_model_pivot, var_order)\n",
    "markdown_df = utah_demo.to_markdown(index=False)\n",
    "display(Markdown(markdown_df))"
   ]
  },
  {
   "attachments": {},
   "cell_type": "markdown",
   "metadata": {},
   "source": [
    "```{=html}\n",
    "</details>\n",
    "```"
   ]
  },
  {
   "cell_type": "code",
   "execution_count": 394,
   "metadata": {},
   "outputs": [
    {
     "data": {
      "text/html": [
       "<iframe\n",
       "    scrolling=\"no\"\n",
       "    width=\"100%\"\n",
       "    height=\"420\"\n",
       "    src=\"iframe_figures/figure_394.html\"\n",
       "    frameborder=\"0\"\n",
       "    allowfullscreen\n",
       "></iframe>\n"
      ]
     },
     "metadata": {},
     "output_type": "display_data"
    }
   ],
   "source": [
    "#| echo: False\n",
    "#| label: fig-ut-sector\n",
    "#| fig-cap: \"Utah Control Total vs. Modeled Number of Jobs by Job Type\"\n",
    "plot_job_sectors('UTAH', control_model_long)"
   ]
  },
  {
   "attachments": {},
   "cell_type": "markdown",
   "metadata": {},
   "source": [
    "## Checking SE File for inconsistencies:"
   ]
  },
  {
   "attachments": {},
   "cell_type": "markdown",
   "metadata": {},
   "source": [
    "Below are the TAZIDs where the Sum of Employment Categories are not within 0.5 of the ALLEMP value:"
   ]
  },
  {
   "cell_type": "code",
   "execution_count": 393,
   "metadata": {},
   "outputs": [
    {
     "data": {
      "text/plain": [
       "[582, 583, 598, 677, 683, 684, 689, 740, 775, 794, 924]"
      ]
     },
     "metadata": {},
     "output_type": "display_data"
    }
   ],
   "source": [
    "#| echo: False\n",
    "model_cols2 = model_cols\n",
    "model_cols2.append('Z')\n",
    "model_filtered2 = model_se.loc[model_se['CO_NAME'].isin(model_cos), model_cols2]\n",
    "model_filtered2['ALLEMP2'] = model_filtered2.iloc[:, model_filtered2.columns.get_loc('RETL'): model_filtered2.columns.get_loc('HBJ') + 1].sum(axis=1)\n",
    "#z_values = model_filtered2.loc[model_filtered2['ALLEMP'] != model_filtered2['ALLEMP2'], 'Z'].tolist()\n",
    "z_values = model_filtered2.loc[abs(model_filtered2['ALLEMP'] - model_filtered2['ALLEMP2']) > 0.5, 'Z'].tolist()\n",
    "display(z_values)"
   ]
  }
 ],
 "metadata": {
  "kernelspec": {
   "display_name": "base",
   "language": "python",
   "name": "python3"
  },
  "language_info": {
   "codemirror_mode": {
    "name": "ipython",
    "version": 3
   },
   "file_extension": ".py",
   "mimetype": "text/x-python",
   "name": "python",
   "nbconvert_exporter": "python",
   "pygments_lexer": "ipython3",
   "version": "3.9.15"
  },
  "orig_nbformat": 4
 },
 "nbformat": 4,
 "nbformat_minor": 2
}
